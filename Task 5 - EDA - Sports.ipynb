{
 "cells": [
  {
   "cell_type": "markdown",
   "id": "054ecff4",
   "metadata": {},
   "source": [
    "### Antriksh Gupta - GRIPDecember22"
   ]
  },
  {
   "cell_type": "markdown",
   "id": "38e20810",
   "metadata": {},
   "source": [
    "### Importing Libraries & Dataset"
   ]
  },
  {
   "cell_type": "code",
   "execution_count": 1,
   "id": "1e2cfad3",
   "metadata": {},
   "outputs": [],
   "source": [
    "import pandas as pd \n",
    "import numpy as np\n",
    "import matplotlib.pyplot as plt \n",
    "import seaborn as sns "
   ]
  },
  {
   "cell_type": "code",
   "execution_count": 2,
   "id": "365f471f",
   "metadata": {},
   "outputs": [
    {
     "data": {
      "text/html": [
       "<div>\n",
       "<style scoped>\n",
       "    .dataframe tbody tr th:only-of-type {\n",
       "        vertical-align: middle;\n",
       "    }\n",
       "\n",
       "    .dataframe tbody tr th {\n",
       "        vertical-align: top;\n",
       "    }\n",
       "\n",
       "    .dataframe thead th {\n",
       "        text-align: right;\n",
       "    }\n",
       "</style>\n",
       "<table border=\"1\" class=\"dataframe\">\n",
       "  <thead>\n",
       "    <tr style=\"text-align: right;\">\n",
       "      <th></th>\n",
       "      <th>match_id</th>\n",
       "      <th>inning</th>\n",
       "      <th>batting_team</th>\n",
       "      <th>bowling_team</th>\n",
       "      <th>over</th>\n",
       "      <th>ball</th>\n",
       "      <th>batsman</th>\n",
       "      <th>non_striker</th>\n",
       "      <th>bowler</th>\n",
       "      <th>is_super_over</th>\n",
       "      <th>...</th>\n",
       "      <th>bye_runs</th>\n",
       "      <th>legbye_runs</th>\n",
       "      <th>noball_runs</th>\n",
       "      <th>penalty_runs</th>\n",
       "      <th>batsman_runs</th>\n",
       "      <th>extra_runs</th>\n",
       "      <th>total_runs</th>\n",
       "      <th>player_dismissed</th>\n",
       "      <th>dismissal_kind</th>\n",
       "      <th>fielder</th>\n",
       "    </tr>\n",
       "  </thead>\n",
       "  <tbody>\n",
       "    <tr>\n",
       "      <th>0</th>\n",
       "      <td>1</td>\n",
       "      <td>1</td>\n",
       "      <td>Sunrisers Hyderabad</td>\n",
       "      <td>Royal Challengers Bangalore</td>\n",
       "      <td>1</td>\n",
       "      <td>1</td>\n",
       "      <td>DA Warner</td>\n",
       "      <td>S Dhawan</td>\n",
       "      <td>TS Mills</td>\n",
       "      <td>0</td>\n",
       "      <td>...</td>\n",
       "      <td>0</td>\n",
       "      <td>0</td>\n",
       "      <td>0</td>\n",
       "      <td>0</td>\n",
       "      <td>0</td>\n",
       "      <td>0</td>\n",
       "      <td>0</td>\n",
       "      <td>NaN</td>\n",
       "      <td>NaN</td>\n",
       "      <td>NaN</td>\n",
       "    </tr>\n",
       "    <tr>\n",
       "      <th>1</th>\n",
       "      <td>1</td>\n",
       "      <td>1</td>\n",
       "      <td>Sunrisers Hyderabad</td>\n",
       "      <td>Royal Challengers Bangalore</td>\n",
       "      <td>1</td>\n",
       "      <td>2</td>\n",
       "      <td>DA Warner</td>\n",
       "      <td>S Dhawan</td>\n",
       "      <td>TS Mills</td>\n",
       "      <td>0</td>\n",
       "      <td>...</td>\n",
       "      <td>0</td>\n",
       "      <td>0</td>\n",
       "      <td>0</td>\n",
       "      <td>0</td>\n",
       "      <td>0</td>\n",
       "      <td>0</td>\n",
       "      <td>0</td>\n",
       "      <td>NaN</td>\n",
       "      <td>NaN</td>\n",
       "      <td>NaN</td>\n",
       "    </tr>\n",
       "    <tr>\n",
       "      <th>2</th>\n",
       "      <td>1</td>\n",
       "      <td>1</td>\n",
       "      <td>Sunrisers Hyderabad</td>\n",
       "      <td>Royal Challengers Bangalore</td>\n",
       "      <td>1</td>\n",
       "      <td>3</td>\n",
       "      <td>DA Warner</td>\n",
       "      <td>S Dhawan</td>\n",
       "      <td>TS Mills</td>\n",
       "      <td>0</td>\n",
       "      <td>...</td>\n",
       "      <td>0</td>\n",
       "      <td>0</td>\n",
       "      <td>0</td>\n",
       "      <td>0</td>\n",
       "      <td>4</td>\n",
       "      <td>0</td>\n",
       "      <td>4</td>\n",
       "      <td>NaN</td>\n",
       "      <td>NaN</td>\n",
       "      <td>NaN</td>\n",
       "    </tr>\n",
       "    <tr>\n",
       "      <th>3</th>\n",
       "      <td>1</td>\n",
       "      <td>1</td>\n",
       "      <td>Sunrisers Hyderabad</td>\n",
       "      <td>Royal Challengers Bangalore</td>\n",
       "      <td>1</td>\n",
       "      <td>4</td>\n",
       "      <td>DA Warner</td>\n",
       "      <td>S Dhawan</td>\n",
       "      <td>TS Mills</td>\n",
       "      <td>0</td>\n",
       "      <td>...</td>\n",
       "      <td>0</td>\n",
       "      <td>0</td>\n",
       "      <td>0</td>\n",
       "      <td>0</td>\n",
       "      <td>0</td>\n",
       "      <td>0</td>\n",
       "      <td>0</td>\n",
       "      <td>NaN</td>\n",
       "      <td>NaN</td>\n",
       "      <td>NaN</td>\n",
       "    </tr>\n",
       "    <tr>\n",
       "      <th>4</th>\n",
       "      <td>1</td>\n",
       "      <td>1</td>\n",
       "      <td>Sunrisers Hyderabad</td>\n",
       "      <td>Royal Challengers Bangalore</td>\n",
       "      <td>1</td>\n",
       "      <td>5</td>\n",
       "      <td>DA Warner</td>\n",
       "      <td>S Dhawan</td>\n",
       "      <td>TS Mills</td>\n",
       "      <td>0</td>\n",
       "      <td>...</td>\n",
       "      <td>0</td>\n",
       "      <td>0</td>\n",
       "      <td>0</td>\n",
       "      <td>0</td>\n",
       "      <td>0</td>\n",
       "      <td>2</td>\n",
       "      <td>2</td>\n",
       "      <td>NaN</td>\n",
       "      <td>NaN</td>\n",
       "      <td>NaN</td>\n",
       "    </tr>\n",
       "  </tbody>\n",
       "</table>\n",
       "<p>5 rows × 21 columns</p>\n",
       "</div>"
      ],
      "text/plain": [
       "   match_id  inning         batting_team                 bowling_team  over  \\\n",
       "0         1       1  Sunrisers Hyderabad  Royal Challengers Bangalore     1   \n",
       "1         1       1  Sunrisers Hyderabad  Royal Challengers Bangalore     1   \n",
       "2         1       1  Sunrisers Hyderabad  Royal Challengers Bangalore     1   \n",
       "3         1       1  Sunrisers Hyderabad  Royal Challengers Bangalore     1   \n",
       "4         1       1  Sunrisers Hyderabad  Royal Challengers Bangalore     1   \n",
       "\n",
       "   ball    batsman non_striker    bowler  is_super_over  ...  bye_runs  \\\n",
       "0     1  DA Warner    S Dhawan  TS Mills              0  ...         0   \n",
       "1     2  DA Warner    S Dhawan  TS Mills              0  ...         0   \n",
       "2     3  DA Warner    S Dhawan  TS Mills              0  ...         0   \n",
       "3     4  DA Warner    S Dhawan  TS Mills              0  ...         0   \n",
       "4     5  DA Warner    S Dhawan  TS Mills              0  ...         0   \n",
       "\n",
       "   legbye_runs  noball_runs  penalty_runs  batsman_runs  extra_runs  \\\n",
       "0            0            0             0             0           0   \n",
       "1            0            0             0             0           0   \n",
       "2            0            0             0             4           0   \n",
       "3            0            0             0             0           0   \n",
       "4            0            0             0             0           2   \n",
       "\n",
       "   total_runs  player_dismissed dismissal_kind fielder  \n",
       "0           0               NaN            NaN     NaN  \n",
       "1           0               NaN            NaN     NaN  \n",
       "2           4               NaN            NaN     NaN  \n",
       "3           0               NaN            NaN     NaN  \n",
       "4           2               NaN            NaN     NaN  \n",
       "\n",
       "[5 rows x 21 columns]"
      ]
     },
     "execution_count": 2,
     "metadata": {},
     "output_type": "execute_result"
    }
   ],
   "source": [
    "mdf = pd.read_csv('matches.csv')\n",
    "ddf = pd.read_csv('deliveries.csv')\n",
    "ddf.head()"
   ]
  },
  {
   "cell_type": "code",
   "execution_count": 3,
   "id": "642f695a",
   "metadata": {},
   "outputs": [
    {
     "data": {
      "text/html": [
       "<div>\n",
       "<style scoped>\n",
       "    .dataframe tbody tr th:only-of-type {\n",
       "        vertical-align: middle;\n",
       "    }\n",
       "\n",
       "    .dataframe tbody tr th {\n",
       "        vertical-align: top;\n",
       "    }\n",
       "\n",
       "    .dataframe thead th {\n",
       "        text-align: right;\n",
       "    }\n",
       "</style>\n",
       "<table border=\"1\" class=\"dataframe\">\n",
       "  <thead>\n",
       "    <tr style=\"text-align: right;\">\n",
       "      <th></th>\n",
       "      <th>id</th>\n",
       "      <th>season</th>\n",
       "      <th>city</th>\n",
       "      <th>date</th>\n",
       "      <th>team1</th>\n",
       "      <th>team2</th>\n",
       "      <th>toss_winner</th>\n",
       "      <th>toss_decision</th>\n",
       "      <th>result</th>\n",
       "      <th>dl_applied</th>\n",
       "      <th>winner</th>\n",
       "      <th>win_by_runs</th>\n",
       "      <th>win_by_wickets</th>\n",
       "      <th>player_of_match</th>\n",
       "      <th>venue</th>\n",
       "      <th>umpire1</th>\n",
       "      <th>umpire2</th>\n",
       "      <th>umpire3</th>\n",
       "    </tr>\n",
       "  </thead>\n",
       "  <tbody>\n",
       "    <tr>\n",
       "      <th>0</th>\n",
       "      <td>1</td>\n",
       "      <td>2017</td>\n",
       "      <td>Hyderabad</td>\n",
       "      <td>2017-04-05</td>\n",
       "      <td>Sunrisers Hyderabad</td>\n",
       "      <td>Royal Challengers Bangalore</td>\n",
       "      <td>Royal Challengers Bangalore</td>\n",
       "      <td>field</td>\n",
       "      <td>normal</td>\n",
       "      <td>0</td>\n",
       "      <td>Sunrisers Hyderabad</td>\n",
       "      <td>35</td>\n",
       "      <td>0</td>\n",
       "      <td>Yuvraj Singh</td>\n",
       "      <td>Rajiv Gandhi International Stadium, Uppal</td>\n",
       "      <td>AY Dandekar</td>\n",
       "      <td>NJ Llong</td>\n",
       "      <td>NaN</td>\n",
       "    </tr>\n",
       "    <tr>\n",
       "      <th>1</th>\n",
       "      <td>2</td>\n",
       "      <td>2017</td>\n",
       "      <td>Pune</td>\n",
       "      <td>2017-04-06</td>\n",
       "      <td>Mumbai Indians</td>\n",
       "      <td>Rising Pune Supergiant</td>\n",
       "      <td>Rising Pune Supergiant</td>\n",
       "      <td>field</td>\n",
       "      <td>normal</td>\n",
       "      <td>0</td>\n",
       "      <td>Rising Pune Supergiant</td>\n",
       "      <td>0</td>\n",
       "      <td>7</td>\n",
       "      <td>SPD Smith</td>\n",
       "      <td>Maharashtra Cricket Association Stadium</td>\n",
       "      <td>A Nand Kishore</td>\n",
       "      <td>S Ravi</td>\n",
       "      <td>NaN</td>\n",
       "    </tr>\n",
       "    <tr>\n",
       "      <th>2</th>\n",
       "      <td>3</td>\n",
       "      <td>2017</td>\n",
       "      <td>Rajkot</td>\n",
       "      <td>2017-04-07</td>\n",
       "      <td>Gujarat Lions</td>\n",
       "      <td>Kolkata Knight Riders</td>\n",
       "      <td>Kolkata Knight Riders</td>\n",
       "      <td>field</td>\n",
       "      <td>normal</td>\n",
       "      <td>0</td>\n",
       "      <td>Kolkata Knight Riders</td>\n",
       "      <td>0</td>\n",
       "      <td>10</td>\n",
       "      <td>CA Lynn</td>\n",
       "      <td>Saurashtra Cricket Association Stadium</td>\n",
       "      <td>Nitin Menon</td>\n",
       "      <td>CK Nandan</td>\n",
       "      <td>NaN</td>\n",
       "    </tr>\n",
       "    <tr>\n",
       "      <th>3</th>\n",
       "      <td>4</td>\n",
       "      <td>2017</td>\n",
       "      <td>Indore</td>\n",
       "      <td>2017-04-08</td>\n",
       "      <td>Rising Pune Supergiant</td>\n",
       "      <td>Kings XI Punjab</td>\n",
       "      <td>Kings XI Punjab</td>\n",
       "      <td>field</td>\n",
       "      <td>normal</td>\n",
       "      <td>0</td>\n",
       "      <td>Kings XI Punjab</td>\n",
       "      <td>0</td>\n",
       "      <td>6</td>\n",
       "      <td>GJ Maxwell</td>\n",
       "      <td>Holkar Cricket Stadium</td>\n",
       "      <td>AK Chaudhary</td>\n",
       "      <td>C Shamshuddin</td>\n",
       "      <td>NaN</td>\n",
       "    </tr>\n",
       "    <tr>\n",
       "      <th>4</th>\n",
       "      <td>5</td>\n",
       "      <td>2017</td>\n",
       "      <td>Bangalore</td>\n",
       "      <td>2017-04-08</td>\n",
       "      <td>Royal Challengers Bangalore</td>\n",
       "      <td>Delhi Daredevils</td>\n",
       "      <td>Royal Challengers Bangalore</td>\n",
       "      <td>bat</td>\n",
       "      <td>normal</td>\n",
       "      <td>0</td>\n",
       "      <td>Royal Challengers Bangalore</td>\n",
       "      <td>15</td>\n",
       "      <td>0</td>\n",
       "      <td>KM Jadhav</td>\n",
       "      <td>M Chinnaswamy Stadium</td>\n",
       "      <td>NaN</td>\n",
       "      <td>NaN</td>\n",
       "      <td>NaN</td>\n",
       "    </tr>\n",
       "  </tbody>\n",
       "</table>\n",
       "</div>"
      ],
      "text/plain": [
       "   id  season       city        date                        team1  \\\n",
       "0   1    2017  Hyderabad  2017-04-05          Sunrisers Hyderabad   \n",
       "1   2    2017       Pune  2017-04-06               Mumbai Indians   \n",
       "2   3    2017     Rajkot  2017-04-07                Gujarat Lions   \n",
       "3   4    2017     Indore  2017-04-08       Rising Pune Supergiant   \n",
       "4   5    2017  Bangalore  2017-04-08  Royal Challengers Bangalore   \n",
       "\n",
       "                         team2                  toss_winner toss_decision  \\\n",
       "0  Royal Challengers Bangalore  Royal Challengers Bangalore         field   \n",
       "1       Rising Pune Supergiant       Rising Pune Supergiant         field   \n",
       "2        Kolkata Knight Riders        Kolkata Knight Riders         field   \n",
       "3              Kings XI Punjab              Kings XI Punjab         field   \n",
       "4             Delhi Daredevils  Royal Challengers Bangalore           bat   \n",
       "\n",
       "   result  dl_applied                       winner  win_by_runs  \\\n",
       "0  normal           0          Sunrisers Hyderabad           35   \n",
       "1  normal           0       Rising Pune Supergiant            0   \n",
       "2  normal           0        Kolkata Knight Riders            0   \n",
       "3  normal           0              Kings XI Punjab            0   \n",
       "4  normal           0  Royal Challengers Bangalore           15   \n",
       "\n",
       "   win_by_wickets player_of_match                                      venue  \\\n",
       "0               0    Yuvraj Singh  Rajiv Gandhi International Stadium, Uppal   \n",
       "1               7       SPD Smith    Maharashtra Cricket Association Stadium   \n",
       "2              10         CA Lynn     Saurashtra Cricket Association Stadium   \n",
       "3               6      GJ Maxwell                     Holkar Cricket Stadium   \n",
       "4               0       KM Jadhav                      M Chinnaswamy Stadium   \n",
       "\n",
       "          umpire1        umpire2 umpire3  \n",
       "0     AY Dandekar       NJ Llong     NaN  \n",
       "1  A Nand Kishore         S Ravi     NaN  \n",
       "2     Nitin Menon      CK Nandan     NaN  \n",
       "3    AK Chaudhary  C Shamshuddin     NaN  \n",
       "4             NaN            NaN     NaN  "
      ]
     },
     "execution_count": 3,
     "metadata": {},
     "output_type": "execute_result"
    }
   ],
   "source": [
    "mdf.head()"
   ]
  },
  {
   "cell_type": "markdown",
   "id": "5c899bea",
   "metadata": {},
   "source": [
    "### Data Preprocessing"
   ]
  },
  {
   "cell_type": "code",
   "execution_count": 4,
   "id": "635c803b",
   "metadata": {},
   "outputs": [
    {
     "name": "stdout",
     "output_type": "stream",
     "text": [
      "<class 'pandas.core.frame.DataFrame'>\n",
      "RangeIndex: 756 entries, 0 to 755\n",
      "Data columns (total 18 columns):\n",
      " #   Column           Non-Null Count  Dtype \n",
      "---  ------           --------------  ----- \n",
      " 0   id               756 non-null    int64 \n",
      " 1   season           756 non-null    int64 \n",
      " 2   city             749 non-null    object\n",
      " 3   date             756 non-null    object\n",
      " 4   team1            756 non-null    object\n",
      " 5   team2            756 non-null    object\n",
      " 6   toss_winner      756 non-null    object\n",
      " 7   toss_decision    756 non-null    object\n",
      " 8   result           756 non-null    object\n",
      " 9   dl_applied       756 non-null    int64 \n",
      " 10  winner           752 non-null    object\n",
      " 11  win_by_runs      756 non-null    int64 \n",
      " 12  win_by_wickets   756 non-null    int64 \n",
      " 13  player_of_match  752 non-null    object\n",
      " 14  venue            756 non-null    object\n",
      " 15  umpire1          754 non-null    object\n",
      " 16  umpire2          754 non-null    object\n",
      " 17  umpire3          119 non-null    object\n",
      "dtypes: int64(5), object(13)\n",
      "memory usage: 106.4+ KB\n"
     ]
    }
   ],
   "source": [
    "mdf.info()"
   ]
  },
  {
   "cell_type": "code",
   "execution_count": 5,
   "id": "5dabc87a",
   "metadata": {},
   "outputs": [],
   "source": [
    "mdf.drop(['umpire3'], axis = 1, inplace = True)"
   ]
  },
  {
   "cell_type": "code",
   "execution_count": 6,
   "id": "158857d8",
   "metadata": {},
   "outputs": [
    {
     "name": "stdout",
     "output_type": "stream",
     "text": [
      "<class 'pandas.core.frame.DataFrame'>\n",
      "RangeIndex: 179078 entries, 0 to 179077\n",
      "Data columns (total 21 columns):\n",
      " #   Column            Non-Null Count   Dtype \n",
      "---  ------            --------------   ----- \n",
      " 0   match_id          179078 non-null  int64 \n",
      " 1   inning            179078 non-null  int64 \n",
      " 2   batting_team      179078 non-null  object\n",
      " 3   bowling_team      179078 non-null  object\n",
      " 4   over              179078 non-null  int64 \n",
      " 5   ball              179078 non-null  int64 \n",
      " 6   batsman           179078 non-null  object\n",
      " 7   non_striker       179078 non-null  object\n",
      " 8   bowler            179078 non-null  object\n",
      " 9   is_super_over     179078 non-null  int64 \n",
      " 10  wide_runs         179078 non-null  int64 \n",
      " 11  bye_runs          179078 non-null  int64 \n",
      " 12  legbye_runs       179078 non-null  int64 \n",
      " 13  noball_runs       179078 non-null  int64 \n",
      " 14  penalty_runs      179078 non-null  int64 \n",
      " 15  batsman_runs      179078 non-null  int64 \n",
      " 16  extra_runs        179078 non-null  int64 \n",
      " 17  total_runs        179078 non-null  int64 \n",
      " 18  player_dismissed  8834 non-null    object\n",
      " 19  dismissal_kind    8834 non-null    object\n",
      " 20  fielder           6448 non-null    object\n",
      "dtypes: int64(13), object(8)\n",
      "memory usage: 28.7+ MB\n"
     ]
    }
   ],
   "source": [
    "ddf.info()"
   ]
  },
  {
   "cell_type": "code",
   "execution_count": 7,
   "id": "fa4f84ed",
   "metadata": {},
   "outputs": [],
   "source": [
    "ddf.drop(['player_dismissed', 'fielder'], axis = 1, inplace = True)"
   ]
  },
  {
   "cell_type": "markdown",
   "id": "ac3ee6de",
   "metadata": {},
   "source": [
    "### Analysis of Matches"
   ]
  },
  {
   "cell_type": "code",
   "execution_count": 8,
   "id": "cd8fc77e",
   "metadata": {},
   "outputs": [
    {
     "data": {
      "text/html": [
       "<div>\n",
       "<style scoped>\n",
       "    .dataframe tbody tr th:only-of-type {\n",
       "        vertical-align: middle;\n",
       "    }\n",
       "\n",
       "    .dataframe tbody tr th {\n",
       "        vertical-align: top;\n",
       "    }\n",
       "\n",
       "    .dataframe thead th {\n",
       "        text-align: right;\n",
       "    }\n",
       "</style>\n",
       "<table border=\"1\" class=\"dataframe\">\n",
       "  <thead>\n",
       "    <tr style=\"text-align: right;\">\n",
       "      <th></th>\n",
       "      <th>id</th>\n",
       "      <th>season</th>\n",
       "      <th>dl_applied</th>\n",
       "      <th>win_by_runs</th>\n",
       "      <th>win_by_wickets</th>\n",
       "    </tr>\n",
       "  </thead>\n",
       "  <tbody>\n",
       "    <tr>\n",
       "      <th>count</th>\n",
       "      <td>756.000000</td>\n",
       "      <td>756.000000</td>\n",
       "      <td>756.000000</td>\n",
       "      <td>756.000000</td>\n",
       "      <td>756.000000</td>\n",
       "    </tr>\n",
       "    <tr>\n",
       "      <th>mean</th>\n",
       "      <td>1792.178571</td>\n",
       "      <td>2013.444444</td>\n",
       "      <td>0.025132</td>\n",
       "      <td>13.283069</td>\n",
       "      <td>3.350529</td>\n",
       "    </tr>\n",
       "    <tr>\n",
       "      <th>std</th>\n",
       "      <td>3464.478148</td>\n",
       "      <td>3.366895</td>\n",
       "      <td>0.156630</td>\n",
       "      <td>23.471144</td>\n",
       "      <td>3.387963</td>\n",
       "    </tr>\n",
       "    <tr>\n",
       "      <th>min</th>\n",
       "      <td>1.000000</td>\n",
       "      <td>2008.000000</td>\n",
       "      <td>0.000000</td>\n",
       "      <td>0.000000</td>\n",
       "      <td>0.000000</td>\n",
       "    </tr>\n",
       "    <tr>\n",
       "      <th>25%</th>\n",
       "      <td>189.750000</td>\n",
       "      <td>2011.000000</td>\n",
       "      <td>0.000000</td>\n",
       "      <td>0.000000</td>\n",
       "      <td>0.000000</td>\n",
       "    </tr>\n",
       "    <tr>\n",
       "      <th>50%</th>\n",
       "      <td>378.500000</td>\n",
       "      <td>2013.000000</td>\n",
       "      <td>0.000000</td>\n",
       "      <td>0.000000</td>\n",
       "      <td>4.000000</td>\n",
       "    </tr>\n",
       "    <tr>\n",
       "      <th>75%</th>\n",
       "      <td>567.250000</td>\n",
       "      <td>2016.000000</td>\n",
       "      <td>0.000000</td>\n",
       "      <td>19.000000</td>\n",
       "      <td>6.000000</td>\n",
       "    </tr>\n",
       "    <tr>\n",
       "      <th>max</th>\n",
       "      <td>11415.000000</td>\n",
       "      <td>2019.000000</td>\n",
       "      <td>1.000000</td>\n",
       "      <td>146.000000</td>\n",
       "      <td>10.000000</td>\n",
       "    </tr>\n",
       "  </tbody>\n",
       "</table>\n",
       "</div>"
      ],
      "text/plain": [
       "                 id       season  dl_applied  win_by_runs  win_by_wickets\n",
       "count    756.000000   756.000000  756.000000   756.000000      756.000000\n",
       "mean    1792.178571  2013.444444    0.025132    13.283069        3.350529\n",
       "std     3464.478148     3.366895    0.156630    23.471144        3.387963\n",
       "min        1.000000  2008.000000    0.000000     0.000000        0.000000\n",
       "25%      189.750000  2011.000000    0.000000     0.000000        0.000000\n",
       "50%      378.500000  2013.000000    0.000000     0.000000        4.000000\n",
       "75%      567.250000  2016.000000    0.000000    19.000000        6.000000\n",
       "max    11415.000000  2019.000000    1.000000   146.000000       10.000000"
      ]
     },
     "execution_count": 8,
     "metadata": {},
     "output_type": "execute_result"
    }
   ],
   "source": [
    "mdf.describe()"
   ]
  },
  {
   "cell_type": "code",
   "execution_count": 9,
   "id": "b1bb5601",
   "metadata": {},
   "outputs": [
    {
     "data": {
      "text/plain": [
       "array([2017, 2008, 2009, 2010, 2011, 2012, 2013, 2014, 2015, 2016, 2018,\n",
       "       2019], dtype=int64)"
      ]
     },
     "execution_count": 9,
     "metadata": {},
     "output_type": "execute_result"
    }
   ],
   "source": [
    "mdf['season'].unique()"
   ]
  },
  {
   "cell_type": "code",
   "execution_count": 10,
   "id": "e57f52d4",
   "metadata": {},
   "outputs": [
    {
     "data": {
      "text/plain": [
       "12"
      ]
     },
     "execution_count": 10,
     "metadata": {},
     "output_type": "execute_result"
    }
   ],
   "source": [
    "# no. of seasons\n",
    "mdf['season'].nunique()"
   ]
  },
  {
   "cell_type": "code",
   "execution_count": 11,
   "id": "c2764c7e",
   "metadata": {},
   "outputs": [
    {
     "data": {
      "text/plain": [
       "array(['Sunrisers Hyderabad', 'Mumbai Indians', 'Gujarat Lions',\n",
       "       'Rising Pune Supergiant', 'Royal Challengers Bangalore',\n",
       "       'Kolkata Knight Riders', 'Delhi Daredevils', 'Kings XI Punjab',\n",
       "       'Chennai Super Kings', 'Rajasthan Royals', 'Deccan Chargers',\n",
       "       'Kochi Tuskers Kerala', 'Pune Warriors', 'Rising Pune Supergiants',\n",
       "       'Delhi Capitals'], dtype=object)"
      ]
     },
     "execution_count": 11,
     "metadata": {},
     "output_type": "execute_result"
    }
   ],
   "source": [
    "mdf['team1'].unique()"
   ]
  },
  {
   "cell_type": "code",
   "execution_count": 12,
   "id": "462720a3",
   "metadata": {},
   "outputs": [
    {
     "data": {
      "text/plain": [
       "15"
      ]
     },
     "execution_count": 12,
     "metadata": {},
     "output_type": "execute_result"
    }
   ],
   "source": [
    "mdf['team2'].nunique()"
   ]
  },
  {
   "cell_type": "code",
   "execution_count": 13,
   "id": "881cf5b5",
   "metadata": {},
   "outputs": [
    {
     "data": {
      "text/plain": [
       "'Mumbai Indians'"
      ]
     },
     "execution_count": 13,
     "metadata": {},
     "output_type": "execute_result"
    }
   ],
   "source": [
    "# team won a match by max runs \n",
    "mdf.iloc[mdf['win_by_runs'].idxmax()].winner"
   ]
  },
  {
   "cell_type": "code",
   "execution_count": 14,
   "id": "919c85b7",
   "metadata": {},
   "outputs": [
    {
     "data": {
      "text/plain": [
       "'Kolkata Knight Riders'"
      ]
     },
     "execution_count": 14,
     "metadata": {},
     "output_type": "execute_result"
    }
   ],
   "source": [
    "# team won a match by max wickets \n",
    "mdf.iloc[mdf['win_by_wickets'].idxmax()].winner"
   ]
  },
  {
   "cell_type": "code",
   "execution_count": 15,
   "id": "e96c2fde",
   "metadata": {},
   "outputs": [
    {
     "data": {
      "text/plain": [
       "Mumbai Indians                 187\n",
       "Royal Challengers Bangalore    180\n",
       "Kolkata Knight Riders          178\n",
       "Kings XI Punjab                176\n",
       "Chennai Super Kings            164\n",
       "Delhi Daredevils               161\n",
       "Rajasthan Royals               147\n",
       "Sunrisers Hyderabad            108\n",
       "Deccan Chargers                 75\n",
       "Pune Warriors                   46\n",
       "Gujarat Lions                   30\n",
       "Delhi Capitals                  16\n",
       "Rising Pune Supergiant          16\n",
       "Kochi Tuskers Kerala            14\n",
       "Rising Pune Supergiants         14\n",
       "dtype: int64"
      ]
     },
     "execution_count": 15,
     "metadata": {},
     "output_type": "execute_result"
    }
   ],
   "source": [
    "# no. of matches played by team\n",
    "(mdf.team1.value_counts() + mdf.team2.value_counts()).sort_values(ascending = False)"
   ]
  },
  {
   "cell_type": "code",
   "execution_count": 16,
   "id": "f8b4821d",
   "metadata": {},
   "outputs": [
    {
     "data": {
      "text/plain": [
       "<AxesSubplot:>"
      ]
     },
     "execution_count": 16,
     "metadata": {},
     "output_type": "execute_result"
    },
    {
     "data": {
      "image/png": "[encoded data removed]",
      "text/plain": [
       "<Figure size 720x360 with 1 Axes>"
      ]
     },
     "metadata": {
      "needs_background": "light"
     },
     "output_type": "display_data"
    }
   ],
   "source": [
    "(mdf.team1.value_counts() + mdf.team2.value_counts()).plot(kind = 'bar', figsize = [10, 5])"
   ]
  },
  {
   "cell_type": "code",
   "execution_count": 17,
   "id": "e836d05a",
   "metadata": {},
   "outputs": [
    {
     "data": {
      "text/plain": [
       "Mumbai Indians                 109\n",
       "Chennai Super Kings            100\n",
       "Kolkata Knight Riders           92\n",
       "Royal Challengers Bangalore     84\n",
       "Kings XI Punjab                 82\n",
       "Rajasthan Royals                75\n",
       "Delhi Daredevils                67\n",
       "Sunrisers Hyderabad             58\n",
       "Deccan Chargers                 29\n",
       "Gujarat Lions                   13\n",
       "Pune Warriors                   12\n",
       "Rising Pune Supergiant          10\n",
       "Delhi Capitals                  10\n",
       "Kochi Tuskers Kerala             6\n",
       "Rising Pune Supergiants          5\n",
       "Name: winner, dtype: int64"
      ]
     },
     "execution_count": 17,
     "metadata": {},
     "output_type": "execute_result"
    }
   ],
   "source": [
    "# max no. of matches won by any team\n",
    "mdf.winner.value_counts()"
   ]
  },
  {
   "cell_type": "code",
   "execution_count": 18,
   "id": "f7103ce2",
   "metadata": {},
   "outputs": [
    {
     "data": {
      "text/plain": [
       "<AxesSubplot:ylabel='winner'>"
      ]
     },
     "execution_count": 18,
     "metadata": {},
     "output_type": "execute_result"
    },
    {
     "data": {
      "image/png": "[encoded data removed]",
      "text/plain": [
       "<Figure size 720x720 with 1 Axes>"
      ]
     },
     "metadata": {},
     "output_type": "display_data"
    }
   ],
   "source": [
    "mdf.winner.value_counts().plot(kind='pie', figsize = [10,10], autopct='%1.1f%%')"
   ]
  },
  {
   "cell_type": "code",
   "execution_count": 19,
   "id": "eec0179e",
   "metadata": {},
   "outputs": [
    {
     "data": {
      "text/plain": [
       "CH Gayle          21\n",
       "AB de Villiers    20\n",
       "RG Sharma         17\n",
       "MS Dhoni          17\n",
       "DA Warner         17\n",
       "YK Pathan         16\n",
       "SR Watson         15\n",
       "SK Raina          14\n",
       "G Gambhir         13\n",
       "MEK Hussey        12\n",
       "Name: player_of_match, dtype: int64"
      ]
     },
     "execution_count": 19,
     "metadata": {},
     "output_type": "execute_result"
    }
   ],
   "source": [
    "# player of the match\n",
    "mdf.player_of_match.value_counts().head(10)"
   ]
  },
  {
   "cell_type": "code",
   "execution_count": 20,
   "id": "5ee0f1ae",
   "metadata": {},
   "outputs": [
    {
     "data": {
      "text/plain": [
       "<AxesSubplot:>"
      ]
     },
     "execution_count": 20,
     "metadata": {},
     "output_type": "execute_result"
    },
    {
     "data": {
      "image/png": "[encoded data removed]",
      "text/plain": [
       "<Figure size 720x360 with 1 Axes>"
      ]
     },
     "metadata": {
      "needs_background": "light"
     },
     "output_type": "display_data"
    }
   ],
   "source": [
    "mdf.player_of_match.value_counts().head(10).plot(kind = 'bar', figsize = [10,5])"
   ]
  },
  {
   "cell_type": "code",
   "execution_count": 21,
   "id": "150ad722",
   "metadata": {},
   "outputs": [
    {
     "data": {
      "text/plain": [
       "Eden Gardens                                            77\n",
       "M Chinnaswamy Stadium                                   73\n",
       "Wankhede Stadium                                        73\n",
       "Feroz Shah Kotla                                        67\n",
       "Rajiv Gandhi International Stadium, Uppal               56\n",
       "MA Chidambaram Stadium, Chepauk                         49\n",
       "Sawai Mansingh Stadium                                  47\n",
       "Punjab Cricket Association Stadium, Mohali              35\n",
       "Maharashtra Cricket Association Stadium                 21\n",
       "Subrata Roy Sahara Stadium                              17\n",
       "Dr DY Patil Sports Academy                              17\n",
       "Kingsmead                                               15\n",
       "Punjab Cricket Association IS Bindra Stadium, Mohali    14\n",
       "SuperSport Park                                         12\n",
       "Sardar Patel Stadium, Motera                            12\n",
       "Dr. Y.S. Rajasekhara Reddy ACA-VDCA Cricket Stadium     11\n",
       "Brabourne Stadium                                       11\n",
       "Saurashtra Cricket Association Stadium                  10\n",
       "Holkar Cricket Stadium                                   9\n",
       "Himachal Pradesh Cricket Association Stadium             9\n",
       "Rajiv Gandhi Intl. Cricket Stadium                       8\n",
       "M. A. Chidambaram Stadium                                8\n",
       "New Wanderers Stadium                                    8\n",
       "Feroz Shah Kotla Ground                                  7\n",
       "Barabati Stadium                                         7\n",
       "M. Chinnaswamy Stadium                                   7\n",
       "St George's Park                                         7\n",
       "Newlands                                                 7\n",
       "JSCA International Stadium Complex                       7\n",
       "Sheikh Zayed Stadium                                     7\n",
       "Dubai International Cricket Stadium                      7\n",
       "IS Bindra Stadium                                        7\n",
       "Shaheed Veer Narayan Singh International Stadium         6\n",
       "Sharjah Cricket Stadium                                  6\n",
       "Nehru Stadium                                            5\n",
       "Green Park                                               4\n",
       "De Beers Diamond Oval                                    3\n",
       "Vidarbha Cricket Association Stadium, Jamtha             3\n",
       "Buffalo Park                                             3\n",
       "OUTsurance Oval                                          2\n",
       "ACA-VDCA Stadium                                         2\n",
       "Name: venue, dtype: int64"
      ]
     },
     "execution_count": 21,
     "metadata": {},
     "output_type": "execute_result"
    }
   ],
   "source": [
    "# venue\n",
    "mdf.venue.value_counts()"
   ]
  },
  {
   "cell_type": "code",
   "execution_count": 22,
   "id": "fac82ff7",
   "metadata": {},
   "outputs": [
    {
     "data": {
      "text/plain": [
       "<AxesSubplot:>"
      ]
     },
     "execution_count": 22,
     "metadata": {},
     "output_type": "execute_result"
    },
    {
     "data": {
      "image/png": "[encoded data removed]",
      "text/plain": [
       "<Figure size 1440x720 with 1 Axes>"
      ]
     },
     "metadata": {
      "needs_background": "light"
     },
     "output_type": "display_data"
    }
   ],
   "source": [
    "mdf.venue.value_counts().plot(kind = 'bar', figsize = [20, 10])"
   ]
  },
  {
   "cell_type": "code",
   "execution_count": 23,
   "id": "8ca78121",
   "metadata": {},
   "outputs": [
    {
     "data": {
      "text/html": [
       "<div>\n",
       "<style scoped>\n",
       "    .dataframe tbody tr th:only-of-type {\n",
       "        vertical-align: middle;\n",
       "    }\n",
       "\n",
       "    .dataframe tbody tr th {\n",
       "        vertical-align: top;\n",
       "    }\n",
       "\n",
       "    .dataframe thead th {\n",
       "        text-align: right;\n",
       "    }\n",
       "</style>\n",
       "<table border=\"1\" class=\"dataframe\">\n",
       "  <thead>\n",
       "    <tr style=\"text-align: right;\">\n",
       "      <th></th>\n",
       "      <th>id</th>\n",
       "      <th>season</th>\n",
       "      <th>city</th>\n",
       "      <th>date</th>\n",
       "      <th>team1</th>\n",
       "      <th>team2</th>\n",
       "      <th>toss_winner</th>\n",
       "      <th>toss_decision</th>\n",
       "      <th>result</th>\n",
       "      <th>dl_applied</th>\n",
       "      <th>winner</th>\n",
       "      <th>win_by_runs</th>\n",
       "      <th>win_by_wickets</th>\n",
       "      <th>player_of_match</th>\n",
       "      <th>venue</th>\n",
       "      <th>umpire1</th>\n",
       "      <th>umpire2</th>\n",
       "    </tr>\n",
       "  </thead>\n",
       "  <tbody>\n",
       "    <tr>\n",
       "      <th>58</th>\n",
       "      <td>59</td>\n",
       "      <td>2017</td>\n",
       "      <td>Hyderabad</td>\n",
       "      <td>2017-05-21</td>\n",
       "      <td>Mumbai Indians</td>\n",
       "      <td>Rising Pune Supergiant</td>\n",
       "      <td>Mumbai Indians</td>\n",
       "      <td>bat</td>\n",
       "      <td>normal</td>\n",
       "      <td>0</td>\n",
       "      <td>Mumbai Indians</td>\n",
       "      <td>1</td>\n",
       "      <td>0</td>\n",
       "      <td>KH Pandya</td>\n",
       "      <td>Rajiv Gandhi International Stadium, Uppal</td>\n",
       "      <td>NJ Llong</td>\n",
       "      <td>S Ravi</td>\n",
       "    </tr>\n",
       "    <tr>\n",
       "      <th>116</th>\n",
       "      <td>117</td>\n",
       "      <td>2008</td>\n",
       "      <td>Mumbai</td>\n",
       "      <td>2008-06-01</td>\n",
       "      <td>Chennai Super Kings</td>\n",
       "      <td>Rajasthan Royals</td>\n",
       "      <td>Rajasthan Royals</td>\n",
       "      <td>field</td>\n",
       "      <td>normal</td>\n",
       "      <td>0</td>\n",
       "      <td>Rajasthan Royals</td>\n",
       "      <td>0</td>\n",
       "      <td>3</td>\n",
       "      <td>YK Pathan</td>\n",
       "      <td>Dr DY Patil Sports Academy</td>\n",
       "      <td>BF Bowden</td>\n",
       "      <td>RE Koertzen</td>\n",
       "    </tr>\n",
       "    <tr>\n",
       "      <th>173</th>\n",
       "      <td>174</td>\n",
       "      <td>2009</td>\n",
       "      <td>Johannesburg</td>\n",
       "      <td>2009-05-24</td>\n",
       "      <td>Deccan Chargers</td>\n",
       "      <td>Royal Challengers Bangalore</td>\n",
       "      <td>Royal Challengers Bangalore</td>\n",
       "      <td>field</td>\n",
       "      <td>normal</td>\n",
       "      <td>0</td>\n",
       "      <td>Deccan Chargers</td>\n",
       "      <td>6</td>\n",
       "      <td>0</td>\n",
       "      <td>A Kumble</td>\n",
       "      <td>New Wanderers Stadium</td>\n",
       "      <td>RE Koertzen</td>\n",
       "      <td>SJA Taufel</td>\n",
       "    </tr>\n",
       "    <tr>\n",
       "      <th>233</th>\n",
       "      <td>234</td>\n",
       "      <td>2010</td>\n",
       "      <td>Mumbai</td>\n",
       "      <td>2010-04-25</td>\n",
       "      <td>Chennai Super Kings</td>\n",
       "      <td>Mumbai Indians</td>\n",
       "      <td>Chennai Super Kings</td>\n",
       "      <td>bat</td>\n",
       "      <td>normal</td>\n",
       "      <td>0</td>\n",
       "      <td>Chennai Super Kings</td>\n",
       "      <td>22</td>\n",
       "      <td>0</td>\n",
       "      <td>SK Raina</td>\n",
       "      <td>Dr DY Patil Sports Academy</td>\n",
       "      <td>RE Koertzen</td>\n",
       "      <td>SJA Taufel</td>\n",
       "    </tr>\n",
       "    <tr>\n",
       "      <th>306</th>\n",
       "      <td>307</td>\n",
       "      <td>2011</td>\n",
       "      <td>Chennai</td>\n",
       "      <td>2011-05-28</td>\n",
       "      <td>Chennai Super Kings</td>\n",
       "      <td>Royal Challengers Bangalore</td>\n",
       "      <td>Chennai Super Kings</td>\n",
       "      <td>bat</td>\n",
       "      <td>normal</td>\n",
       "      <td>0</td>\n",
       "      <td>Chennai Super Kings</td>\n",
       "      <td>58</td>\n",
       "      <td>0</td>\n",
       "      <td>M Vijay</td>\n",
       "      <td>MA Chidambaram Stadium, Chepauk</td>\n",
       "      <td>Asad Rauf</td>\n",
       "      <td>SJA Taufel</td>\n",
       "    </tr>\n",
       "    <tr>\n",
       "      <th>380</th>\n",
       "      <td>381</td>\n",
       "      <td>2012</td>\n",
       "      <td>Chennai</td>\n",
       "      <td>2012-05-27</td>\n",
       "      <td>Chennai Super Kings</td>\n",
       "      <td>Kolkata Knight Riders</td>\n",
       "      <td>Chennai Super Kings</td>\n",
       "      <td>bat</td>\n",
       "      <td>normal</td>\n",
       "      <td>0</td>\n",
       "      <td>Kolkata Knight Riders</td>\n",
       "      <td>0</td>\n",
       "      <td>5</td>\n",
       "      <td>MS Bisla</td>\n",
       "      <td>MA Chidambaram Stadium, Chepauk</td>\n",
       "      <td>BF Bowden</td>\n",
       "      <td>SJA Taufel</td>\n",
       "    </tr>\n",
       "    <tr>\n",
       "      <th>456</th>\n",
       "      <td>457</td>\n",
       "      <td>2013</td>\n",
       "      <td>Kolkata</td>\n",
       "      <td>2013-05-26</td>\n",
       "      <td>Mumbai Indians</td>\n",
       "      <td>Chennai Super Kings</td>\n",
       "      <td>Mumbai Indians</td>\n",
       "      <td>bat</td>\n",
       "      <td>normal</td>\n",
       "      <td>0</td>\n",
       "      <td>Mumbai Indians</td>\n",
       "      <td>23</td>\n",
       "      <td>0</td>\n",
       "      <td>KA Pollard</td>\n",
       "      <td>Eden Gardens</td>\n",
       "      <td>HDPK Dharmasena</td>\n",
       "      <td>SJA Taufel</td>\n",
       "    </tr>\n",
       "    <tr>\n",
       "      <th>516</th>\n",
       "      <td>517</td>\n",
       "      <td>2014</td>\n",
       "      <td>Bangalore</td>\n",
       "      <td>2014-06-01</td>\n",
       "      <td>Kings XI Punjab</td>\n",
       "      <td>Kolkata Knight Riders</td>\n",
       "      <td>Kolkata Knight Riders</td>\n",
       "      <td>field</td>\n",
       "      <td>normal</td>\n",
       "      <td>0</td>\n",
       "      <td>Kolkata Knight Riders</td>\n",
       "      <td>0</td>\n",
       "      <td>3</td>\n",
       "      <td>MK Pandey</td>\n",
       "      <td>M Chinnaswamy Stadium</td>\n",
       "      <td>HDPK Dharmasena</td>\n",
       "      <td>BNJ Oxenford</td>\n",
       "    </tr>\n",
       "    <tr>\n",
       "      <th>575</th>\n",
       "      <td>576</td>\n",
       "      <td>2015</td>\n",
       "      <td>Kolkata</td>\n",
       "      <td>2015-05-24</td>\n",
       "      <td>Mumbai Indians</td>\n",
       "      <td>Chennai Super Kings</td>\n",
       "      <td>Chennai Super Kings</td>\n",
       "      <td>field</td>\n",
       "      <td>normal</td>\n",
       "      <td>0</td>\n",
       "      <td>Mumbai Indians</td>\n",
       "      <td>41</td>\n",
       "      <td>0</td>\n",
       "      <td>RG Sharma</td>\n",
       "      <td>Eden Gardens</td>\n",
       "      <td>HDPK Dharmasena</td>\n",
       "      <td>RK Illingworth</td>\n",
       "    </tr>\n",
       "    <tr>\n",
       "      <th>635</th>\n",
       "      <td>636</td>\n",
       "      <td>2016</td>\n",
       "      <td>Bangalore</td>\n",
       "      <td>2016-05-29</td>\n",
       "      <td>Sunrisers Hyderabad</td>\n",
       "      <td>Royal Challengers Bangalore</td>\n",
       "      <td>Sunrisers Hyderabad</td>\n",
       "      <td>bat</td>\n",
       "      <td>normal</td>\n",
       "      <td>0</td>\n",
       "      <td>Sunrisers Hyderabad</td>\n",
       "      <td>8</td>\n",
       "      <td>0</td>\n",
       "      <td>BCJ Cutting</td>\n",
       "      <td>M Chinnaswamy Stadium</td>\n",
       "      <td>HDPK Dharmasena</td>\n",
       "      <td>BNJ Oxenford</td>\n",
       "    </tr>\n",
       "    <tr>\n",
       "      <th>695</th>\n",
       "      <td>7953</td>\n",
       "      <td>2018</td>\n",
       "      <td>Mumbai</td>\n",
       "      <td>27/05/18</td>\n",
       "      <td>Sunrisers Hyderabad</td>\n",
       "      <td>Chennai Super Kings</td>\n",
       "      <td>Chennai Super Kings</td>\n",
       "      <td>field</td>\n",
       "      <td>normal</td>\n",
       "      <td>0</td>\n",
       "      <td>Chennai Super Kings</td>\n",
       "      <td>0</td>\n",
       "      <td>8</td>\n",
       "      <td>SR Watson</td>\n",
       "      <td>Wankhede Stadium</td>\n",
       "      <td>Marais Erasmus</td>\n",
       "      <td>S Ravi</td>\n",
       "    </tr>\n",
       "    <tr>\n",
       "      <th>755</th>\n",
       "      <td>11415</td>\n",
       "      <td>2019</td>\n",
       "      <td>Hyderabad</td>\n",
       "      <td>12/05/19</td>\n",
       "      <td>Mumbai Indians</td>\n",
       "      <td>Chennai Super Kings</td>\n",
       "      <td>Mumbai Indians</td>\n",
       "      <td>bat</td>\n",
       "      <td>normal</td>\n",
       "      <td>0</td>\n",
       "      <td>Mumbai Indians</td>\n",
       "      <td>1</td>\n",
       "      <td>0</td>\n",
       "      <td>JJ Bumrah</td>\n",
       "      <td>Rajiv Gandhi Intl. Cricket Stadium</td>\n",
       "      <td>Nitin Menon</td>\n",
       "      <td>Ian Gould</td>\n",
       "    </tr>\n",
       "  </tbody>\n",
       "</table>\n",
       "</div>"
      ],
      "text/plain": [
       "        id  season          city        date                team1  \\\n",
       "58      59    2017     Hyderabad  2017-05-21       Mumbai Indians   \n",
       "116    117    2008        Mumbai  2008-06-01  Chennai Super Kings   \n",
       "173    174    2009  Johannesburg  2009-05-24      Deccan Chargers   \n",
       "233    234    2010        Mumbai  2010-04-25  Chennai Super Kings   \n",
       "306    307    2011       Chennai  2011-05-28  Chennai Super Kings   \n",
       "380    381    2012       Chennai  2012-05-27  Chennai Super Kings   \n",
       "456    457    2013       Kolkata  2013-05-26       Mumbai Indians   \n",
       "516    517    2014     Bangalore  2014-06-01      Kings XI Punjab   \n",
       "575    576    2015       Kolkata  2015-05-24       Mumbai Indians   \n",
       "635    636    2016     Bangalore  2016-05-29  Sunrisers Hyderabad   \n",
       "695   7953    2018        Mumbai    27/05/18  Sunrisers Hyderabad   \n",
       "755  11415    2019     Hyderabad    12/05/19       Mumbai Indians   \n",
       "\n",
       "                           team2                  toss_winner toss_decision  \\\n",
       "58        Rising Pune Supergiant               Mumbai Indians           bat   \n",
       "116             Rajasthan Royals             Rajasthan Royals         field   \n",
       "173  Royal Challengers Bangalore  Royal Challengers Bangalore         field   \n",
       "233               Mumbai Indians          Chennai Super Kings           bat   \n",
       "306  Royal Challengers Bangalore          Chennai Super Kings           bat   \n",
       "380        Kolkata Knight Riders          Chennai Super Kings           bat   \n",
       "456          Chennai Super Kings               Mumbai Indians           bat   \n",
       "516        Kolkata Knight Riders        Kolkata Knight Riders         field   \n",
       "575          Chennai Super Kings          Chennai Super Kings         field   \n",
       "635  Royal Challengers Bangalore          Sunrisers Hyderabad           bat   \n",
       "695          Chennai Super Kings          Chennai Super Kings         field   \n",
       "755          Chennai Super Kings               Mumbai Indians           bat   \n",
       "\n",
       "     result  dl_applied                 winner  win_by_runs  win_by_wickets  \\\n",
       "58   normal           0         Mumbai Indians            1               0   \n",
       "116  normal           0       Rajasthan Royals            0               3   \n",
       "173  normal           0        Deccan Chargers            6               0   \n",
       "233  normal           0    Chennai Super Kings           22               0   \n",
       "306  normal           0    Chennai Super Kings           58               0   \n",
       "380  normal           0  Kolkata Knight Riders            0               5   \n",
       "456  normal           0         Mumbai Indians           23               0   \n",
       "516  normal           0  Kolkata Knight Riders            0               3   \n",
       "575  normal           0         Mumbai Indians           41               0   \n",
       "635  normal           0    Sunrisers Hyderabad            8               0   \n",
       "695  normal           0    Chennai Super Kings            0               8   \n",
       "755  normal           0         Mumbai Indians            1               0   \n",
       "\n",
       "    player_of_match                                      venue  \\\n",
       "58        KH Pandya  Rajiv Gandhi International Stadium, Uppal   \n",
       "116       YK Pathan                 Dr DY Patil Sports Academy   \n",
       "173        A Kumble                      New Wanderers Stadium   \n",
       "233        SK Raina                 Dr DY Patil Sports Academy   \n",
       "306         M Vijay            MA Chidambaram Stadium, Chepauk   \n",
       "380        MS Bisla            MA Chidambaram Stadium, Chepauk   \n",
       "456      KA Pollard                               Eden Gardens   \n",
       "516       MK Pandey                      M Chinnaswamy Stadium   \n",
       "575       RG Sharma                               Eden Gardens   \n",
       "635     BCJ Cutting                      M Chinnaswamy Stadium   \n",
       "695       SR Watson                           Wankhede Stadium   \n",
       "755       JJ Bumrah         Rajiv Gandhi Intl. Cricket Stadium   \n",
       "\n",
       "             umpire1         umpire2  \n",
       "58          NJ Llong          S Ravi  \n",
       "116        BF Bowden     RE Koertzen  \n",
       "173      RE Koertzen      SJA Taufel  \n",
       "233      RE Koertzen      SJA Taufel  \n",
       "306        Asad Rauf      SJA Taufel  \n",
       "380        BF Bowden      SJA Taufel  \n",
       "456  HDPK Dharmasena      SJA Taufel  \n",
       "516  HDPK Dharmasena    BNJ Oxenford  \n",
       "575  HDPK Dharmasena  RK Illingworth  \n",
       "635  HDPK Dharmasena    BNJ Oxenford  \n",
       "695   Marais Erasmus          S Ravi  \n",
       "755      Nitin Menon       Ian Gould  "
      ]
     },
     "execution_count": 23,
     "metadata": {},
     "output_type": "execute_result"
    }
   ],
   "source": [
    "# Chapmion pr season\n",
    "champ = mdf.drop_duplicates(subset = ['season'], keep = 'last')\n",
    "champ"
   ]
  },
  {
   "cell_type": "code",
   "execution_count": 24,
   "id": "7b1ca8fc",
   "metadata": {},
   "outputs": [
    {
     "data": {
      "text/html": [
       "<div>\n",
       "<style scoped>\n",
       "    .dataframe tbody tr th:only-of-type {\n",
       "        vertical-align: middle;\n",
       "    }\n",
       "\n",
       "    .dataframe tbody tr th {\n",
       "        vertical-align: top;\n",
       "    }\n",
       "\n",
       "    .dataframe thead th {\n",
       "        text-align: right;\n",
       "    }\n",
       "</style>\n",
       "<table border=\"1\" class=\"dataframe\">\n",
       "  <thead>\n",
       "    <tr style=\"text-align: right;\">\n",
       "      <th></th>\n",
       "      <th>season</th>\n",
       "      <th>winner</th>\n",
       "    </tr>\n",
       "  </thead>\n",
       "  <tbody>\n",
       "    <tr>\n",
       "      <th>58</th>\n",
       "      <td>2017</td>\n",
       "      <td>Mumbai Indians</td>\n",
       "    </tr>\n",
       "    <tr>\n",
       "      <th>116</th>\n",
       "      <td>2008</td>\n",
       "      <td>Rajasthan Royals</td>\n",
       "    </tr>\n",
       "    <tr>\n",
       "      <th>173</th>\n",
       "      <td>2009</td>\n",
       "      <td>Deccan Chargers</td>\n",
       "    </tr>\n",
       "    <tr>\n",
       "      <th>233</th>\n",
       "      <td>2010</td>\n",
       "      <td>Chennai Super Kings</td>\n",
       "    </tr>\n",
       "    <tr>\n",
       "      <th>306</th>\n",
       "      <td>2011</td>\n",
       "      <td>Chennai Super Kings</td>\n",
       "    </tr>\n",
       "    <tr>\n",
       "      <th>380</th>\n",
       "      <td>2012</td>\n",
       "      <td>Kolkata Knight Riders</td>\n",
       "    </tr>\n",
       "    <tr>\n",
       "      <th>456</th>\n",
       "      <td>2013</td>\n",
       "      <td>Mumbai Indians</td>\n",
       "    </tr>\n",
       "    <tr>\n",
       "      <th>516</th>\n",
       "      <td>2014</td>\n",
       "      <td>Kolkata Knight Riders</td>\n",
       "    </tr>\n",
       "    <tr>\n",
       "      <th>575</th>\n",
       "      <td>2015</td>\n",
       "      <td>Mumbai Indians</td>\n",
       "    </tr>\n",
       "    <tr>\n",
       "      <th>635</th>\n",
       "      <td>2016</td>\n",
       "      <td>Sunrisers Hyderabad</td>\n",
       "    </tr>\n",
       "    <tr>\n",
       "      <th>695</th>\n",
       "      <td>2018</td>\n",
       "      <td>Chennai Super Kings</td>\n",
       "    </tr>\n",
       "    <tr>\n",
       "      <th>755</th>\n",
       "      <td>2019</td>\n",
       "      <td>Mumbai Indians</td>\n",
       "    </tr>\n",
       "  </tbody>\n",
       "</table>\n",
       "</div>"
      ],
      "text/plain": [
       "     season                 winner\n",
       "58     2017         Mumbai Indians\n",
       "116    2008       Rajasthan Royals\n",
       "173    2009        Deccan Chargers\n",
       "233    2010    Chennai Super Kings\n",
       "306    2011    Chennai Super Kings\n",
       "380    2012  Kolkata Knight Riders\n",
       "456    2013         Mumbai Indians\n",
       "516    2014  Kolkata Knight Riders\n",
       "575    2015         Mumbai Indians\n",
       "635    2016    Sunrisers Hyderabad\n",
       "695    2018    Chennai Super Kings\n",
       "755    2019         Mumbai Indians"
      ]
     },
     "execution_count": 24,
     "metadata": {},
     "output_type": "execute_result"
    }
   ],
   "source": [
    "champ[['season', 'winner']]"
   ]
  },
  {
   "cell_type": "code",
   "execution_count": 25,
   "id": "e81c85de",
   "metadata": {},
   "outputs": [
    {
     "data": {
      "text/plain": [
       "<AxesSubplot:ylabel='toss_decision'>"
      ]
     },
     "execution_count": 25,
     "metadata": {},
     "output_type": "execute_result"
    },
    {
     "data": {
      "image/png": "[encoded data removed]",
      "text/plain": [
       "<Figure size 360x360 with 1 Axes>"
      ]
     },
     "metadata": {},
     "output_type": "display_data"
    }
   ],
   "source": [
    "# decission on toss\n",
    "mdf.toss_decision.value_counts().plot(kind = 'pie', figsize = [5,5], autopct='%1.1f%%' )"
   ]
  },
  {
   "cell_type": "code",
   "execution_count": 26,
   "id": "5687de23",
   "metadata": {},
   "outputs": [
    {
     "data": {
      "text/plain": [
       "<AxesSubplot:xlabel='season', ylabel='count'>"
      ]
     },
     "execution_count": 26,
     "metadata": {},
     "output_type": "execute_result"
    },
    {
     "data": {
      "image/png": "[encoded data removed]",
      "text/plain": [
       "<Figure size 720x360 with 1 Axes>"
      ]
     },
     "metadata": {
      "needs_background": "light"
     },
     "output_type": "display_data"
    }
   ],
   "source": [
    "# variations of toss with seasons\n",
    "plt.figure(figsize = [10,5])\n",
    "sns.countplot(x = 'season', hue = 'toss_decision', data = mdf)"
   ]
  },
  {
   "cell_type": "code",
   "execution_count": 27,
   "id": "ffdc5fe0",
   "metadata": {},
   "outputs": [
    {
     "data": {
      "text/plain": [
       "([<matplotlib.patches.Wedge at 0x2bf1af6d4c0>,\n",
       "  <matplotlib.patches.Wedge at 0x2bf1af6dbe0>],\n",
       " [Text(-0.12770233435122916, 1.0925621784599937, 'win'),\n",
       "  Text(0.1277024366442823, -1.0925621665036334, 'loss')],\n",
       " [Text(-0.06965581873703407, 0.5959430064327237, '53.7%'),\n",
       "  Text(0.06965587453324489, -0.5959429999110727, '46.3%')])"
      ]
     },
     "execution_count": 27,
     "metadata": {},
     "output_type": "execute_result"
    },
    {
     "data": {
      "image/png": "[encoded data removed]",
      "text/plain": [
       "<Figure size 432x288 with 1 Axes>"
      ]
     },
     "metadata": {},
     "output_type": "display_data"
    }
   ],
   "source": [
    "# win percentage after batting second\n",
    "win = (mdf.win_by_wickets>0).sum()\n",
    "loss = (mdf.win_by_wickets==0).sum()\n",
    "total = win + loss\n",
    "sizes = [(win/total)*100, (loss/total)*100]\n",
    "plt.pie(sizes, labels = ['win', 'loss'], autopct='%1.1f%%')"
   ]
  },
  {
   "cell_type": "code",
   "execution_count": 28,
   "id": "1b9a8455",
   "metadata": {},
   "outputs": [],
   "source": [
    "# umpires\n",
    "umpires = (mdf.umpire1.value_counts() + mdf.umpire2.value_counts())\n",
    "top10umpires = umpires.sort_values(ascending = False).head(10)"
   ]
  },
  {
   "cell_type": "code",
   "execution_count": 29,
   "id": "9c704f6a",
   "metadata": {},
   "outputs": [
    {
     "data": {
      "text/plain": [
       "<AxesSubplot:>"
      ]
     },
     "execution_count": 29,
     "metadata": {},
     "output_type": "execute_result"
    },
    {
     "data": {
      "image/png": "[encoded data removed]",
      "text/plain": [
       "<Figure size 432x288 with 1 Axes>"
      ]
     },
     "metadata": {
      "needs_background": "light"
     },
     "output_type": "display_data"
    }
   ],
   "source": [
    "top10umpires.plot(kind = 'bar')"
   ]
  },
  {
   "cell_type": "markdown",
   "id": "fdf0982d",
   "metadata": {},
   "source": [
    "### Analysis of Deliveries"
   ]
  },
  {
   "cell_type": "code",
   "execution_count": 30,
   "id": "872c548b",
   "metadata": {},
   "outputs": [
    {
     "name": "stdout",
     "output_type": "stream",
     "text": [
      "<class 'pandas.core.frame.DataFrame'>\n",
      "RangeIndex: 179078 entries, 0 to 179077\n",
      "Data columns (total 19 columns):\n",
      " #   Column          Non-Null Count   Dtype \n",
      "---  ------          --------------   ----- \n",
      " 0   match_id        179078 non-null  int64 \n",
      " 1   inning          179078 non-null  int64 \n",
      " 2   batting_team    179078 non-null  object\n",
      " 3   bowling_team    179078 non-null  object\n",
      " 4   over            179078 non-null  int64 \n",
      " 5   ball            179078 non-null  int64 \n",
      " 6   batsman         179078 non-null  object\n",
      " 7   non_striker     179078 non-null  object\n",
      " 8   bowler          179078 non-null  object\n",
      " 9   is_super_over   179078 non-null  int64 \n",
      " 10  wide_runs       179078 non-null  int64 \n",
      " 11  bye_runs        179078 non-null  int64 \n",
      " 12  legbye_runs     179078 non-null  int64 \n",
      " 13  noball_runs     179078 non-null  int64 \n",
      " 14  penalty_runs    179078 non-null  int64 \n",
      " 15  batsman_runs    179078 non-null  int64 \n",
      " 16  extra_runs      179078 non-null  int64 \n",
      " 17  total_runs      179078 non-null  int64 \n",
      " 18  dismissal_kind  8834 non-null    object\n",
      "dtypes: int64(13), object(6)\n",
      "memory usage: 26.0+ MB\n"
     ]
    }
   ],
   "source": [
    "ddf.info()"
   ]
  },
  {
   "cell_type": "code",
   "execution_count": 31,
   "id": "f837043b",
   "metadata": {},
   "outputs": [
    {
     "data": {
      "text/plain": [
       "batsman\n",
       "V Kohli           5434\n",
       "SK Raina          5415\n",
       "RG Sharma         4914\n",
       "DA Warner         4741\n",
       "S Dhawan          4632\n",
       "CH Gayle          4560\n",
       "MS Dhoni          4477\n",
       "RV Uthappa        4446\n",
       "AB de Villiers    4428\n",
       "G Gambhir         4223\n",
       "Name: batsman_runs, dtype: int64"
      ]
     },
     "execution_count": 31,
     "metadata": {},
     "output_type": "execute_result"
    }
   ],
   "source": [
    "# top 10 batsmans\n",
    "ddf.groupby('batsman')['batsman_runs'].sum().sort_values(ascending = False).head(10)"
   ]
  },
  {
   "cell_type": "code",
   "execution_count": 32,
   "id": "8406a49f",
   "metadata": {},
   "outputs": [
    {
     "data": {
      "text/plain": [
       "<AxesSubplot:xlabel='batsman'>"
      ]
     },
     "execution_count": 32,
     "metadata": {},
     "output_type": "execute_result"
    },
    {
     "data": {
      "image/png": "[encoded data removed]",
      "text/plain": [
       "<Figure size 432x288 with 1 Axes>"
      ]
     },
     "metadata": {
      "needs_background": "light"
     },
     "output_type": "display_data"
    }
   ],
   "source": [
    "ddf.groupby('batsman')['batsman_runs'].sum().sort_values(ascending = False).head(10).plot(kind = 'bar')"
   ]
  },
  {
   "cell_type": "code",
   "execution_count": 33,
   "id": "6c91f967",
   "metadata": {},
   "outputs": [
    {
     "data": {
      "text/plain": [
       "batsman\n",
       "CH Gayle          327\n",
       "AB de Villiers    214\n",
       "MS Dhoni          207\n",
       "SK Raina          195\n",
       "RG Sharma         194\n",
       "V Kohli           191\n",
       "DA Warner         181\n",
       "SR Watson         177\n",
       "KA Pollard        175\n",
       "YK Pathan         161\n",
       "Name: batsman_runs, dtype: int64"
      ]
     },
     "execution_count": 33,
     "metadata": {},
     "output_type": "execute_result"
    }
   ],
   "source": [
    "# most number of sixes\n",
    "sixes = ddf.groupby('batsman')['batsman_runs'].agg(lambda x: (x==6).sum()).sort_values(ascending = False).head(10)\n",
    "sixes"
   ]
  },
  {
   "cell_type": "code",
   "execution_count": 34,
   "id": "803bd992",
   "metadata": {},
   "outputs": [
    {
     "data": {
      "text/plain": [
       "<AxesSubplot:xlabel='batsman'>"
      ]
     },
     "execution_count": 34,
     "metadata": {},
     "output_type": "execute_result"
    },
    {
     "data": {
      "image/png": "[encoded data removed]",
      "text/plain": [
       "<Figure size 432x288 with 1 Axes>"
      ]
     },
     "metadata": {
      "needs_background": "light"
     },
     "output_type": "display_data"
    }
   ],
   "source": [
    "sixes.plot(kind = 'bar')"
   ]
  },
  {
   "cell_type": "code",
   "execution_count": 35,
   "id": "3fc16041",
   "metadata": {},
   "outputs": [
    {
     "data": {
      "text/plain": [
       "batsman\n",
       "S Dhawan      526\n",
       "SK Raina      495\n",
       "G Gambhir     492\n",
       "V Kohli       482\n",
       "DA Warner     459\n",
       "RV Uthappa    436\n",
       "RG Sharma     431\n",
       "AM Rahane     405\n",
       "CH Gayle      376\n",
       "PA Patel      366\n",
       "Name: batsman_runs, dtype: int64"
      ]
     },
     "execution_count": 35,
     "metadata": {},
     "output_type": "execute_result"
    }
   ],
   "source": [
    "# most number of fours\n",
    "fours = ddf.groupby('batsman')['batsman_runs'].agg(lambda x: (x==4).sum()).sort_values(ascending = False).head(10)\n",
    "fours"
   ]
  },
  {
   "cell_type": "code",
   "execution_count": 36,
   "id": "762a3d90",
   "metadata": {},
   "outputs": [
    {
     "data": {
      "text/plain": [
       "<AxesSubplot:xlabel='batsman'>"
      ]
     },
     "execution_count": 36,
     "metadata": {},
     "output_type": "execute_result"
    },
    {
     "data": {
      "image/png": "[encoded data removed]",
      "text/plain": [
       "<Figure size 432x288 with 1 Axes>"
      ]
     },
     "metadata": {
      "needs_background": "light"
     },
     "output_type": "display_data"
    }
   ],
   "source": [
    "fours.plot(kind = 'bar')"
   ]
  },
  {
   "cell_type": "code",
   "execution_count": 37,
   "id": "ad0b653f",
   "metadata": {},
   "outputs": [
    {
     "data": {
      "text/plain": [
       "bowler\n",
       "Harbhajan Singh    3451\n",
       "A Mishra           3172\n",
       "PP Chawla          3157\n",
       "R Ashwin           3016\n",
       "SL Malinga         2974\n",
       "DJ Bravo           2711\n",
       "B Kumar            2707\n",
       "P Kumar            2637\n",
       "UT Yadav           2605\n",
       "SP Narine          2600\n",
       "Name: ball, dtype: int64"
      ]
     },
     "execution_count": 37,
     "metadata": {},
     "output_type": "execute_result"
    }
   ],
   "source": [
    "# number of balls bowled\n",
    "balls = ddf.groupby('bowler')['ball'].count().sort_values(ascending = False).head(10)\n",
    "balls"
   ]
  },
  {
   "cell_type": "code",
   "execution_count": 38,
   "id": "b685aeb7",
   "metadata": {},
   "outputs": [
    {
     "data": {
      "text/plain": [
       "<AxesSubplot:xlabel='bowler'>"
      ]
     },
     "execution_count": 38,
     "metadata": {},
     "output_type": "execute_result"
    },
    {
     "data": {
      "image/png": "[encoded data removed]",
      "text/plain": [
       "<Figure size 432x288 with 1 Axes>"
      ]
     },
     "metadata": {
      "needs_background": "light"
     },
     "output_type": "display_data"
    }
   ],
   "source": [
    "balls.plot(kind = 'bar')"
   ]
  },
  {
   "cell_type": "code",
   "execution_count": 39,
   "id": "77bbf49d",
   "metadata": {},
   "outputs": [
    {
     "data": {
      "text/plain": [
       "<AxesSubplot:xlabel='dismissal_kind', ylabel='count'>"
      ]
     },
     "execution_count": 39,
     "metadata": {},
     "output_type": "execute_result"
    },
    {
     "data": {
      "image/png": "[encoded data removed]",
      "text/plain": [
       "<Figure size 720x360 with 1 Axes>"
      ]
     },
     "metadata": {
      "needs_background": "light"
     },
     "output_type": "display_data"
    }
   ],
   "source": [
    "plt.figure(figsize = [10,5])\n",
    "sns.countplot(x = 'dismissal_kind', data = ddf)"
   ]
  },
  {
   "cell_type": "markdown",
   "id": "39ef1e09",
   "metadata": {},
   "source": [
    "### Conclusion\n",
    "\n",
    "1) Total number of seasons = 12\n",
    "\n",
    "2) Total number of team participated in all seasons = 15\n",
    "\n",
    "3) Team won by maximun numbers of runs is mumbai Indians \n",
    "\n",
    "4) Team won by maximum number of wickets is Kolkata Knight Riders \n",
    "\n",
    "5) Most number of matches in all seasons are played by Mumbai Indians followed by Royal Challengers Banglore \n",
    "\n",
    "6) Most number of matches are won by Mumbai Indians followed by Chennai Super Kings \n",
    "\n",
    "7) Most number of Player of the Match is awarded to Chris Gayle followed by AB De Villiers\n",
    "\n",
    "8) V KOLHI scored the most runs in all seasons followed by Suresh Raina \n",
    "\n",
    "9) Most number of sixes are scored by Chris Gayle \n",
    "\n",
    "10) Most number of balls bowler by Harbhajan Singh"
   ]
  }
 ],
 "metadata": {
  "kernelspec": {
   "display_name": "Python 3 (ipykernel)",
   "language": "python",
   "name": "python3"
  },
  "language_info": {
   "codemirror_mode": {
    "name": "ipython",
    "version": 3
   },
   "file_extension": ".py",
   "mimetype": "text/x-python",
   "name": "python",
   "nbconvert_exporter": "python",
   "pygments_lexer": "ipython3",
   "version": "3.9.12"
  }
 },
 "nbformat": 4,
 "nbformat_minor": 5
}
